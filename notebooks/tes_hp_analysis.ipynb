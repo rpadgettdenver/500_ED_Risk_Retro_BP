{
 "cells": [
  {
   "cell_type": "markdown",
   "metadata": {},
   "source": [
    "# TES+HP Business Model Analysis\\n",
    "## Building 2952 - Timperly Condominium"
   ]
  },
  {
   "cell_type": "code",
   "execution_count": null,
   "metadata": {},
   "outputs": [],
   "source": [
    "# Setup imports\\n",
    "import sys\\n",
    "import os\\n",
    "import pandas as pd\\n",
    "import matplotlib.pyplot as plt\\n",
    "\\n",
    "# Add src to path\\n",
    "sys.path.append('../src')\\n",
    "\\n",
    "# Import our modules\\n",
    "from models.hvac_system_impact_modeler import HVACSystemImpactModeler\\n",
    "from models.tes_hp_cash_flow_bridge import TESHPCashFlowBridge\\n",
    "from analysis.integrated_tes_hp_analyzer import IntegratedTESHPAnalyzer\\n",
    "from models.bridge_loan_investor_package import BridgeLoanInvestorPackage"
   ]
  },
  {
   "cell_type": "markdown",
   "metadata": {},
   "source": [
    "## 1. Building Analysis"
   ]
  },
  {
   "cell_type": "code",
   "execution_count": null,
   "metadata": {},
   "outputs": [],
   "source": [
    "# Create integrated analyzer\\n",
    "analyzer = IntegratedTESHPAnalyzer()\\n",
    "\\n",
    "# Generate executive summary\\n",
    "summary = analyzer.generate_executive_summary()\\n",
    "\\n",
    "# Display building info\\n",
    "print(f\"Building: {summary['building']['name']}\")\\n",
    "print(f\"Size: {summary['building']['units']} units, {summary['building']['sqft']:,} sq ft\")\\n",
    "print(f\"Current EUI: {summary['building']['current_eui']}\")\\n",
    "print(f\"Equipment Replacement Need: ${summary['building']['equipment_replacement_need']:,.0f}\")"
   ]
  },
  {
   "cell_type": "markdown",
   "metadata": {},
   "source": [
    "## 2. System Comparison"
   ]
  },
  {
   "cell_type": "code",
   "execution_count": null,
   "metadata": {},
   "outputs": [],
   "source": [
    "# Compare different HVAC systems\\n",
    "system_impacts = analyzer.model_system_impacts()\\n",
    "\\n",
    "# Display comparison\\n",
    "display_cols = ['system', 'new_eui', 'eui_reduction_pct', 'effective_eui', \\n",
    "                'compliant_2030', 'total_penalties_15yr', 'install_cost']\\n",
    "system_impacts[display_cols]"
   ]
  },
  {
   "cell_type": "markdown",
   "metadata": {},
   "source": [
    "## 3. Financial Analysis"
   ]
  },
  {
   "cell_type": "code",
   "execution_count": null,
   "metadata": {},
   "outputs": [],
   "source": [
    "# Get detailed economics for recommended system\\n",
    "economics = analyzer.calculate_project_economics('4pipe_wshp_tes')\\n",
    "\\n",
    "# Create waterfall chart\\n",
    "fig, ax = plt.subplots(figsize=(10, 6))\\n",
    "\\n",
    "categories = ['Project\\\\nCost', 'ITC', 'Deprec.', 'DRCOG', 'Xcel', 'Net\\\\nCost']\\n",
    "values = [\\n",
    "    economics['total_project_cost'],\\n",
    "    -economics['itc_amount'],\\n",
    "    -economics['depreciation_value'],\\n",
    "    -economics['drcog_grant'],\\n",
    "    -economics['xcel_rebate'],\\n",
    "    economics['net_project_cost']\\n",
    "]\\n",
    "\\n",
    "# Plot waterfall\\n",
    "cumulative = 0\\n",
    "for i, (cat, val) in enumerate(zip(categories, values)):\\n",
    "    if i == 0:\\n",
    "        ax.bar(cat, val/1000, color='red', alpha=0.7)\\n",
    "        cumulative = val\\n",
    "    elif i == len(categories) - 1:\\n",
    "        ax.bar(cat, val/1000, color='green', alpha=0.7)\\n",
    "    else:\\n",
    "        ax.bar(cat, val/1000, bottom=cumulative/1000, color='blue', alpha=0.7)\\n",
    "        cumulative += val\\n",
    "\\n",
    "ax.set_ylabel('Amount ($1000s)')\\n",
    "ax.set_title('Project Economics - Incentive Waterfall')\\n",
    "ax.axhline(y=0, color='black', linewidth=0.8)\\n",
    "plt.tight_layout()\\n",
    "plt.show()\\n",
    "\\n",
    "print(f\"\\\\nIncentive Coverage: {economics['incentive_coverage']:.1%}\")"
   ]
  },
  {
   "cell_type": "markdown",
   "metadata": {},
   "source": [
    "## 4. Cash Flow Analysis"
   ]
  },
  {
   "cell_type": "code",
   "execution_count": null,
   "metadata": {},
   "outputs": [],
   "source": [
    "# Create cash flow model\\n",
    "cf_model = TESHPCashFlowBridge()\\n",
    "cash_flows = cf_model.model_cash_flows()\\n",
    "\\n",
    "# Plot cash flows\\n",
    "fig = cf_model.plot_cash_flow_bridge()\\n",
    "plt.show()\\n",
    "\\n",
    "# Get key metrics\\n",
    "bridge_needs = cf_model.calculate_bridge_loan_needs()\\n",
    "print(f\"Maximum Bridge Loan: ${bridge_needs['maximum_draw']:,.0f}\")\\n",
    "print(f\"Months Outstanding: {bridge_needs['months_outstanding']}\")\\n",
    "print(f\"Coverage Ratio: {bridge_needs['coverage_ratio']:.1f}x\")"
   ]
  },
  {
   "cell_type": "markdown",
   "metadata": {},
   "source": [
    "## 5. Developer Returns"
   ]
  },
  {
   "cell_type": "code",
   "execution_count": null,
   "metadata": {},
   "outputs": [],
   "source": [
    "# Calculate developer returns\\n",
    "dev_returns = analyzer.calculate_developer_returns(economics)\\n",
    "\\n",
    "# Display returns\\n",
    "print(\"DEVELOPER RETURNS:\")\\n",
    "print(f\"Equity Required: ${dev_returns['developer_equity_needed']:,.0f}\")\\n",
    "print(f\"\\\\nProfit Sources:\")\\n",
    "print(f\"  Developer Fee: ${dev_returns['developer_fee']:,.0f}\")\\n",
    "print(f\"  Tax Credit Spread: ${dev_returns['tax_credit_spread']:,.0f}\")\\n",
    "print(f\"  Depreciation Sale: ${dev_returns['depreciation_sale_profit']:,.0f}\")\\n",
    "print(f\"  Rebate Origination: ${dev_returns['rebate_origination']:,.0f}\")\\n",
    "print(f\"\\\\nTotal Profit: ${dev_returns['total_upfront_profit']:,.0f}\")\\n",
    "print(f\"Return on Equity: {dev_returns['return_on_equity']:.0%}\")"
   ]
  }
 ],
 "metadata": {
  "kernelspec": {
   "display_name": "Python 3",
   "language": "python",
   "name": "python3"
  },
  "language_info": {
   "codemirror_mode": {
    "name": "ipython",
    "version": 3
   },
   "file_extension": ".py",
   "mimetype": "text/x-python",
   "name": "python",
   "nbconvert_exporter": "python",
   "pygments_lexer": "ipython3",
   "version": "3.13.5"
  }
 },
 "nbformat": 4,
 "nbformat_minor": 4
}